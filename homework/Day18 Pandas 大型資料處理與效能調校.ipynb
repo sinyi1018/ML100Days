{
 "cells": [
  {
   "cell_type": "markdown",
   "metadata": {},
   "source": [
    "1. 速度較慢的時候，可以先從哪邊開始檢查？\n",
    "(1) 觀察讀取的資料型態，可以選擇資料型態選最快速的，例如pkl\n",
    "(2) 觀察是否有使用自己設定的函數，盡量多使用內建函數\n",
    "(3) 使用向量化的資料處理方式'''"
   ]
  },
  {
   "cell_type": "markdown",
   "metadata": {},
   "source": [
    "2. 資料過大時應採取什麼方式讓記憶體占用量下降？\n",
    "將欄位的型態降級，例如將整數型態 int 改成 uint 減少記憶體使用空間"
   ]
  }
 ],
 "metadata": {
  "kernelspec": {
   "display_name": "Python 3",
   "language": "python",
   "name": "python3"
  },
  "language_info": {
   "codemirror_mode": {
    "name": "ipython",
    "version": 3
   },
   "file_extension": ".py",
   "mimetype": "text/x-python",
   "name": "python",
   "nbconvert_exporter": "python",
   "pygments_lexer": "ipython3",
   "version": "3.8.5"
  }
 },
 "nbformat": 4,
 "nbformat_minor": 4
}
