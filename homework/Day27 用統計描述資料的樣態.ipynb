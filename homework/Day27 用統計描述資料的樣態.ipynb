{
 "cells": [
  {
   "cell_type": "markdown",
   "metadata": {
    "id": "H-z4L8J371GO"
   },
   "source": [
    "## 作業:\n",
    "今天學到不同統計量之間特性，  \n",
    "試著分析男生女生身高資料，  \n",
    "試著回答下面的問題:  \n",
    "Q1:試著用今天所教的內容，如何描述這兩組資料的樣態?    \n",
    "Q2: 請問男生和女生在平均身高上誰比較高?   \n",
    "Q3:請問第二題的答案和日常生活中觀察的一致嗎? 如果不一致，你覺得原因可能為何?    \n",
    "上述問題透過  python 語法進行運算，\n",
    "並將上述答案填寫在 (google 表單)[https://docs.google.com/forms/d/e/1FAIpQLSdDzwpeJl8YLPwZaW8pBZvtuXY9kIbbZLqxcXyzFaoraV5JEA/viewform ]\n",
    "![](作業資料圖檔.PNG)"
   ]
  },
  {
   "cell_type": "code",
   "execution_count": 13,
   "metadata": {
    "id": "yz28_IgkYdBW"
   },
   "outputs": [],
   "source": [
    "# library\n",
    "import matplotlib.pyplot as plt\n",
    "import numpy as np\n",
    "import pandas as pd\n",
    "from scipy import stats\n",
    "import scipy.stats as st\n",
    "import math\n",
    "import statistics\n",
    "import seaborn as sns"
   ]
  },
  {
   "cell_type": "code",
   "execution_count": 21,
   "metadata": {
    "id": "3NtzuWtt71GU",
    "outputId": "be21c4eb-a6c2-4674-aadd-d378bafc0428"
   },
   "outputs": [],
   "source": [
    "## 輸入資料\n",
    "\n",
    "dfboy = pd.DataFrame([164,175,183,173,\n",
    "                                176,159,165,165,\n",
    "                                169,151,156,163,\n",
    "                                169,144,170,177,\n",
    "                                165,160,164,171])\n",
    "\n",
    "dfgirl = pd.DataFrame([169,170,162,154,\n",
    "                                183,173,169,167,\n",
    "                                170,185,162,175,\n",
    "                                168,151,181,170,\n",
    "                                182,156,159,160])"
   ]
  },
  {
   "cell_type": "code",
   "execution_count": 26,
   "metadata": {
    "id": "uDM9AzrY71GW",
    "outputId": "f4e7ede3-fda9-4858-f122-af7c3b3f3ad4"
   },
   "outputs": [
    {
     "name": "stdout",
     "output_type": "stream",
     "text": [
      "165.95\n",
      "168.3\n",
      "165.0\n",
      "169.0\n",
      "ModeResult(mode=array([165]), count=array([3]))\n",
      "ModeResult(mode=array([170]), count=array([3]))\n",
      "-0.4713212731737694\n",
      "0.059853211293650746\n",
      "0.19395882957876243\n",
      "-0.8203607083948947\n",
      "84.89210526315789\n",
      "95.37894736842105\n"
     ]
    }
   ],
   "source": [
    "#Q1:試著用今天所教的內容，如何描述這兩組資料的樣態?\n",
    "#暗示:  分別計算男生和女生的統計量\n",
    "print(np.mean(boy))\n",
    "print(np.mean(girl))\n",
    "print(np.median(boy))\n",
    "print(np.median(girl))\n",
    "print(st.mode(boy))\n",
    "print(st.mode(girl))\n",
    "print(st.skew(boy))\n",
    "print(st.skew(girl))\n",
    "print(st.kurtosis(boy))\n",
    "print(st.kurtosis(girl))\n",
    "print(statistics.variance(boy))\n",
    "print(statistics.variance(girl))\n",
    "\n",
    "#男生的平均數為165.95，女生為168.3\n",
    "#男生的中位數為165.0，女生為169.3\n",
    "#男生的偏態為負偏態，女生為正偏態\n",
    "#男生的為高峻峰，女生為低闊峰\n",
    "#男生的變異數為84.89，女生為95.38，女生的離散程度較大"
   ]
  },
  {
   "cell_type": "code",
   "execution_count": null,
   "metadata": {
    "id": "xH_GNsC271GW",
    "outputId": "f4b4c46a-0d8b-421c-9c70-0ebf2aab0e31"
   },
   "outputs": [
    {
     "data": {
      "text/plain": [
       "'\\n你的答案\\n'"
      ]
     },
     "execution_count": 4,
     "metadata": {
      "tags": []
     },
     "output_type": "execute_result"
    }
   ],
   "source": [
    "#Q2: 請問男生和女生在平均身高上誰比較高? \n",
    "#女生"
   ]
  },
  {
   "cell_type": "code",
   "execution_count": null,
   "metadata": {
    "id": "xAzZU0Dv71GX",
    "outputId": "e2017c09-70fc-41ab-99c0-9d41fe21629d"
   },
   "outputs": [
    {
     "data": {
      "text/plain": [
       "'\\n你的答案\\n'"
      ]
     },
     "execution_count": 5,
     "metadata": {
      "tags": []
     },
     "output_type": "execute_result"
    }
   ],
   "source": [
    "#Q3:請問第二題的答案和日常生活中觀察的一致嗎? 如果不一致，你覺得原因可能為何? \n",
    "#不一致，樣本數取樣的方法，可能剛好取樣到的女生都比較高，男生都比較矮，原因有可能是地區、年齡等"
   ]
  }
 ],
 "metadata": {
  "colab": {
   "collapsed_sections": [],
   "name": "作業.ipynb",
   "provenance": []
  },
  "kernelspec": {
   "display_name": "Python 3",
   "language": "python",
   "name": "python3"
  },
  "language_info": {
   "codemirror_mode": {
    "name": "ipython",
    "version": 3
   },
   "file_extension": ".py",
   "mimetype": "text/x-python",
   "name": "python",
   "nbconvert_exporter": "python",
   "pygments_lexer": "ipython3",
   "version": "3.8.5"
  }
 },
 "nbformat": 4,
 "nbformat_minor": 1
}
